{
 "cells": [
  {
   "cell_type": "markdown",
   "metadata": {},
   "source": [
    "# CSC 223 Midterm, Spring 2020\n",
    "\n",
    "## Name:"
   ]
  },
  {
   "cell_type": "markdown",
   "metadata": {},
   "source": [
    "## Instructions\n",
    "\n",
    "For each of the questions, write your answer below the ```# your code here``` portion of the code cell. The answer must be the output of the code cell. Do not modifiy any of the code above the ```# your code here``` comment."
   ]
  },
  {
   "cell_type": "markdown",
   "metadata": {},
   "source": [
    "## Question 1\n",
    "\n",
    "Wite one line of code to extract the number 5 from the list named ```L1```."
   ]
  },
  {
   "cell_type": "code",
   "execution_count": 1,
   "metadata": {},
   "outputs": [],
   "source": [
    "L1 = [[1,2,3], [4,5,6], [7,8,9]]\n",
    "\n",
    "# your code here\n"
   ]
  },
  {
   "cell_type": "markdown",
   "metadata": {},
   "source": [
    "## Question 2\n",
    "\n",
    "Write one line of code to extract the list\n",
    "\n",
    "```python\n",
    "['h', 'i']\n",
    "```\n",
    "\n",
    "from the list named ```L2```."
   ]
  },
  {
   "cell_type": "code",
   "execution_count": 2,
   "metadata": {},
   "outputs": [],
   "source": [
    "L2 = [['a', 'b', 'c'], ['d', 'e', 'f'], ['g', 'h', 'i'], ['j', 'k', 'l']]\n",
    "\n",
    "# your code here\n"
   ]
  },
  {
   "cell_type": "markdown",
   "metadata": {},
   "source": [
    "## Question 3\n",
    "\n",
    "Write code to convert the string named ```S3``` into the list:\n",
    "\n",
    "```python\n",
    "[1.0, 2.0, 3.14]\n",
    "```"
   ]
  },
  {
   "cell_type": "code",
   "execution_count": 3,
   "metadata": {},
   "outputs": [],
   "source": [
    "S3 = '1,2,3.14'\n",
    "\n",
    "# your code here\n"
   ]
  },
  {
   "cell_type": "markdown",
   "metadata": {},
   "source": [
    "## Question 4\n",
    "\n",
    "Write code to count the number of occurrences of the word 'epoch' from the string named ```S4```."
   ]
  },
  {
   "cell_type": "code",
   "execution_count": 4,
   "metadata": {},
   "outputs": [],
   "source": [
    "S4 = '''\n",
    "it was the best of times,                                                       \n",
    "it was the worst of times,                                                      \n",
    "it was the age of wisdom,                                                       \n",
    "it was the age of foolishness,                                                  \n",
    "it was the epoch of belief,                                                     \n",
    "it was the epoch of incredulity,                                                \n",
    "it was the season of Light,                                                     \n",
    "it was the season of Darkness,                                                  \n",
    "it was the spring of hope,                                                      \n",
    "it was the winter of despair,\n",
    "'''\n",
    "\n",
    "# your code here\n"
   ]
  },
  {
   "cell_type": "markdown",
   "metadata": {},
   "source": [
    "## Question 5\n",
    "\n",
    "Write code that takes the list named ```L5``` and creates a new list with the even numbers removed."
   ]
  },
  {
   "cell_type": "code",
   "execution_count": 5,
   "metadata": {},
   "outputs": [],
   "source": [
    "L5 = list(range(-10, 11))\n",
    "\n",
    "# your code here\n"
   ]
  },
  {
   "cell_type": "markdown",
   "metadata": {},
   "source": [
    "## Question 6\n",
    "\n",
    "Write a function named ```f``` that takes a list of numbers as a parameter and returns a tuple where the first element is the mean of the list and the second element is the range of the list. Then call the function named ```f``` on the list named ```L6```."
   ]
  },
  {
   "cell_type": "code",
   "execution_count": 6,
   "metadata": {},
   "outputs": [],
   "source": [
    "L6 = [ 7.0, 7.4, 9.5, 7.2, 7.3, 7.6, 8.1, 8.2, 8.3, 8.5, 8.7, 9.8, 7.1, 8.7,9.1, 9.7, 10.9, 11.0, 7.3, 7.9, 8.4, 9.0, 9.0, 9.5, 9.6, 9.7, 10.1, 10.1, 10.6, 11.2, 6.3, 8.7, 8.8, 10.2, 9.0, 10.9, 8.7, 10.1, 10.1, 8.5, 10.2, 10.8, 9.9, 10.1, 10.1, 10.6, 13.0, 6.5, 6.5, 10.1, 7.2, 7.6, 7.9, 8.5, 9.1, 9.6, 9.6, 10.7, 9.6, 7.3, 7.9, 7.9, 9.1, 9.3, 7.9, 8.6, 8.8, 8.8, 9.3, 11.0, 12.7, 12.7, 7.7, 8.3, 9.4, 9.4, 10.5, 11.5, 8.0, 9.0, 9.6, 9.6, 9.8, 10.4, 11.1, 12.0, 12.5, 9.1, 10.0, 10.2, 11.4, 12.0, 13.3, 13.5, 9.4, 10.1, 10.6, 11.3, 11.8, 10.0, 10.4, 10.6, 11.6, 12.2, 12.4, 12.7, 13.3, 13.8, 9.9, 11.5, 12.1, 12.5, 13.0, 14.3, 11.6, 11.9, 12.3, 13.0, 13.5, 13.6, 11.5, 12.0, 14.1, 14.9, 15.4, 11.2, 12.2, 12.4, 12.8, 14.4, 11.7, 12.9, 15.6, 15.7, 17.2, 11.8, 13.3, 14.8, 15.0, 11.0, 14.8, 16.8, 14.4, 20.5 ]\n",
    "\n",
    "# your code here\n"
   ]
  },
  {
   "cell_type": "markdown",
   "metadata": {},
   "source": [
    "## Question 7\n",
    "\n",
    "Write one line of code to extract the value 7 from the dict named ```D7```."
   ]
  },
  {
   "cell_type": "code",
   "execution_count": 7,
   "metadata": {},
   "outputs": [],
   "source": [
    "D7 = {'a': 2, 'b': 3, 'c': 5, 'd': 7, 'e': 11, 'f': 13, 'g': 17}\n",
    "\n",
    "# your code here\n"
   ]
  },
  {
   "cell_type": "markdown",
   "metadata": {},
   "source": [
    "## Question 8\n",
    "\n",
    "Write code to compute the median value of the dict named ```D8```."
   ]
  },
  {
   "cell_type": "code",
   "execution_count": 8,
   "metadata": {},
   "outputs": [],
   "source": [
    "D8 = { 'Italy': 17, 'UK': 39, 'USA': 29, 'Germany': 16, 'France': 8, 'China': 3, 'Romania': 1, 'South Korea': 5, 'Netherlands': 3, 'Japan': 15, 'Russia': 3, 'Australia': 1, 'Sweden': 3, 'Taiwan': 1, 'India': 2, 'Switzerland': 1, 'Malaysia': 1, 'Spain': 1, 'Czech Republic': 2, 'Austria': 1, 'Serbia': 1, 'Ukraine': 1, 'Denmark': 1 }\n",
    "\n",
    "# your code here\n"
   ]
  },
  {
   "cell_type": "markdown",
   "metadata": {},
   "source": [
    "## Question 9\n",
    "\n",
    "Write code that creates a new dict from the dict named ```D9``` where the keys from ```D9``` are the values in the new dict and the values from ```D9``` are the keys in the new dict."
   ]
  },
  {
   "cell_type": "code",
   "execution_count": 9,
   "metadata": {},
   "outputs": [],
   "source": [
    "D9 = {'a': 2, 'b': 3, 'c': 5, 'd': 7, 'e': 11, 'f': 13, 'g': 17}\n",
    "\n",
    "# your code here\n"
   ]
  },
  {
   "cell_type": "markdown",
   "metadata": {},
   "source": [
    "## Question 10\n",
    "\n",
    "Write code that creates an association list from the lists named ```L10a``` and ```L10b```. Where the elements in ```L10a``` are the keys and the elements in ```L10b``` are the values."
   ]
  },
  {
   "cell_type": "code",
   "execution_count": 10,
   "metadata": {},
   "outputs": [],
   "source": [
    "L10a = ['one', 'two', 'three', 'four']\n",
    "L10b = [1, 2, 3, 4]\n",
    "\n",
    "# your code here\n"
   ]
  }
 ],
 "metadata": {
  "kernelspec": {
   "display_name": "Python 3",
   "language": "python",
   "name": "python3"
  },
  "language_info": {
   "codemirror_mode": {
    "name": "ipython",
    "version": 3
   },
   "file_extension": ".py",
   "mimetype": "text/x-python",
   "name": "python",
   "nbconvert_exporter": "python",
   "pygments_lexer": "ipython3",
   "version": "3.6.5"
  }
 },
 "nbformat": 4,
 "nbformat_minor": 2
}
